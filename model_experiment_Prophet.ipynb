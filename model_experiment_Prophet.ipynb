{
  "nbformat": 4,
  "nbformat_minor": 0,
  "metadata": {
    "colab": {
      "provenance": [],
      "authorship_tag": "ABX9TyN0eNn8ueMfQaZX5dQkeYaV",
      "include_colab_link": true
    },
    "kernelspec": {
      "name": "python3",
      "display_name": "Python 3"
    },
    "language_info": {
      "name": "python"
    }
  },
  "cells": [
    {
      "cell_type": "markdown",
      "metadata": {
        "id": "view-in-github",
        "colab_type": "text"
      },
      "source": [
        "<a href=\"https://colab.research.google.com/github/qetibakh/ML-Final/blob/main/model_experiment_Prophet.ipynb\" target=\"_parent\"><img src=\"https://colab.research.google.com/assets/colab-badge.svg\" alt=\"Open In Colab\"/></a>"
      ]
    },
    {
      "cell_type": "code",
      "execution_count": null,
      "metadata": {
        "id": "xRz8owjRH3s5"
      },
      "outputs": [],
      "source": [
        "import wandb\n",
        "from google.colab import userdata # If you are using Colab and Colab Secrets\n",
        "\n",
        "try:\n",
        "    # If you stored your API key in Colab Secrets\n",
        "    wandb_api_key = userdata.get('WANDB_API_KEY')\n",
        "    if wandb_api_key:\n",
        "        wandb.login(key=wandb_api_key)\n",
        "        print(\"Wandb login successful!\")\n",
        "    else:\n",
        "        # If not using Colab Secrets, you might need to log in interactively\n",
        "        # or set the WANDB_API_KEY environment variable\n",
        "        print(\"Wandb API key not found in Colab Secrets. Attempting interactive login or using environment variable.\")\n",
        "        wandb.login()\n",
        "\n",
        "    # Initialize a new Wandb run for this notebook/experiment\n",
        "    # You can give it a different name if you like, e.g., 'lightgbm-training-notebook'\n",
        "    run = wandb.init(project='walmart-sales-forecasting', name='prophet-model-training')\n",
        "    print(f\"Wandb run initialized: {run.name}\")\n",
        "\n",
        "except Exception as e:\n",
        "    print(f\"Wandb initialization or login failed: {e}\")\n",
        "\n",
        "# Now you can safely use wandb.config.update(), wandb.log(), etc.\n",
        "# Remember to call run.finish() at the end of your notebook"
      ]
    }
  ]
}